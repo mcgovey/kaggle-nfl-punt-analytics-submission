{
  "cells": [
    {
      "metadata": {
        "_uuid": "d5b18f5ad4af926f91869090c8b004380328bcea"
      },
      "cell_type": "markdown",
      "source": "# NFL Punt Analysis Rule Change Analysis\n## Kevin McGovern and Todd Steussie\nThis notebook contains visualizations used to evaluate NFL punt plays in 2016 and 2017 and support a suggested rule change.\n"
    },
    {
      "metadata": {
        "_uuid": "8f2839f25d086af736a60e9eeb907d3b93b6e0e5",
        "_cell_guid": "b1076dfc-b9ad-4769-8c92-a6c4dae69d19",
        "trusted": true,
        "_kg_hide-input": true,
        "_kg_hide-output": true
      },
      "cell_type": "code",
      "source": "# This Python 3 environment comes with many helpful analytics libraries installed\n# It is defined by the kaggle/python docker image: https://github.com/kaggle/docker-python\n# For example, here's several helpful packages to load in \n\nimport numpy as np # linear algebra\nimport pandas as pd # data processing, CSV file I/O (e.g. pd.read_csv)\n\nfrom ipywidgets import interactive\nfrom IPython.display import HTML\n\nfrom bokeh.plotting import figure, ColumnDataSource\nfrom bokeh.io import output_notebook, show, push_notebook\nfrom bokeh.models import CustomJS, Slider, Button, BoxAnnotation, LabelSet, LinearAxis, Range1d\nfrom bokeh.layouts import row, widgetbox\nimport bokeh.models as bmo\n\nimport seaborn as sns; sns.set()\n\nimport matplotlib.pyplot as plt\n\noutput_notebook()\n\n# Input data files are available in the \"../input/\" directory.\n# For example, running this (by clicking run or pressing Shift+Enter) will list the files in the input directory\n\nimport os\n#print(os.listdir(\"../input/nfl-punt-analysis-data-output\"))\n\n# Load full data set\npuntDF = pd.read_csv('../input/nfl-punt-analysis-data-output/playerMvmt-level-data.csv')\nplayLvlDF = pd.read_csv('../input/nfl-punt-analysis-data-output/play-level-data.csv')\nplayLvlCleanDF = playLvlDF[playLvlDF['Primary_Impact_Type'] != 'Unclear']",
      "execution_count": null,
      "outputs": []
    },
    {
      "metadata": {
        "trusted": true,
        "_uuid": "3af6445b69d9b77d9c4a931d3e9da789507110d7",
        "_kg_hide-input": true,
        "_kg_hide-output": true
      },
      "cell_type": "code",
      "source": "def get_data_over_time(playID = 3746, actors = ['27654.0','33127.0']):\n    limitedSample = puntDF.loc[(puntDF['PlayID'] == playID)]\n    limitedSample = limitedSample[limitedSample['GSISID_y'].isin(actors)]\n    return limitedSample\ndef update_sample(playID = 3746, timeNum = 1):\n    limitedSample = puntDF.loc[(puntDF['PlayID'] == playID) & (puntDF['TimeNum'] == timeNum)]\n    return limitedSample",
      "execution_count": null,
      "outputs": []
    },
    {
      "metadata": {
        "trusted": true,
        "_uuid": "8e429cbc5297e18fda674660e51d88c0580c3301",
        "_kg_hide-input": true,
        "_kg_hide-output": true
      },
      "cell_type": "code",
      "source": "def update_interactors(limitedSample = puntDF.loc[(puntDF['PlayID'] == 3746)]):\n    interactors = limitedSample[(limitedSample['GSISID_x'] == limitedSample['GSISID_y']) | (limitedSample['Primary_Partner_GSISID'] == limitedSample['GSISID_y'])]\n    return interactors\n\ndef get_play(playID = 3746):\n    return playLvlDF.loc[(playLvlDF['PlayID'] == playID)]\n\ndef generatePlayText(playID = 3746):\n    playCalled = get_play(playID)\n    stmt = str(playCalled['GSISID'].iloc[0]) + ' was injured in ' + str(playCalled['Season_Year'].iloc[0]) + '. The contact was made by ' + playCalled['Player_Activity_Derived'].iloc[0] + ' on ' + playCalled['Primary_Impact_Type'].iloc[0] + ' contact.'\n    return stmt",
      "execution_count": null,
      "outputs": []
    },
    {
      "metadata": {
        "trusted": true,
        "_uuid": "0f92068ae424e65d4bcecd8c4d2fda05ee8320f0",
        "_kg_hide-input": true
      },
      "cell_type": "code",
      "source": "def update_plot(timeNum, playID):\n    #update circles\n    limitedSample = update_sample(playID, timeNum)\n    x = limitedSample['x']\n    y = limitedSample['y']\n    colorMap = ['#ff0000' if x in(limitedSample['GSISID_x'].values) else '#0000ff' if x in(limitedSample['Primary_Partner_GSISID'].values) else '#545454' for x in limitedSample.GSISID_y]\n\n    circlePlt.data_source.data['x'] = x\n    circlePlt.data_source.data['y'] = y\n    circlePlt.data_source.data['fill_color'] = colorMap\n    \n    #update lines\n    distanceLine = update_interactors(limitedSample)\n    line_x = distanceLine['x']\n    line_y = distanceLine['y']\n    lines.data_source.data['x'] = line_x\n    lines.data_source.data['y'] = line_y\n    #plt.data_source.data['source'] = source\n    \n    #labels = LabelSet(x=x, y=y, text='gsisid', level='glyph',\n    #           x_offset=5, y_offset=5, render_mode='canvas')\n    #fig.renderers.pop()\n    #fig.add_layout(labels)\n    push_notebook(handle=bokeh_handle)\n    \n    # Update distance chart\n    distanceDF = get_data_over_time(playID, actors = [get_play(playID)['GSISID'].iloc[0]])\n    x = distanceDF['TimeNum']\n    y = distanceDF['Distance']\n\n    distanceLines.data_source.data['x'] = x\n    distanceLines.data_source.data['y'] = y\n    \n    push_notebook(handle=bokeh_handle2)\n    \n    # Update speed chart\n    distanceDF = get_data_over_time(playID, actors = [get_play(playID)['GSISID'].iloc[0]])\n    x = distanceDF['TimeNum']\n    y = distanceDF['Speed']\n    injSpeedlines.data_source.data['x'] = x\n    injSpeedlines.data_source.data['y'] = y\n\n    distanceDF = get_data_over_time(playID, actors = [get_play(playID)['Primary_Partner_GSISID'].iloc[0]])\n    x = distanceDF['TimeNum']\n    y = distanceDF['Speed']\n    primActorSpeedlines.data_source.data['x'] = x\n    primActorSpeedlines.data_source.data['y'] = y\n    \n    push_notebook(handle=bokeh_handle3)\n    \n    return \"\"#generatePlayText(playID)",
      "execution_count": null,
      "outputs": []
    },
    {
      "metadata": {
        "trusted": true,
        "_uuid": "a187d490b390ea6846f7fe6170bd0af7a645ed47",
        "_kg_hide-input": true
      },
      "cell_type": "code",
      "source": "# Create function for play charting\ndef create_bokeh_play_x_y_lines(playID, actors, figure):\n\n    # calculate base data set\n    limitedSample = get_data_over_time(playID = playID, actors = actors)\n    x = limitedSample[limitedSample['GSISID_y'] == float(actors[0])]['x']\n    y = limitedSample[limitedSample['GSISID_y'] == float(actors[0])]['y']\n    x2 = limitedSample[limitedSample['GSISID_y'] == float(actors[1])]['x']\n    y2 = limitedSample[limitedSample['GSISID_y'] == float(actors[1])]['y']\n\n    # add line renderers with color, width, and alpha\n    figure.line(x, y, line_color='#b22222',line_width=3, alpha=0.8)\n    figure.line(x2, y2, line_color='#4682b4',line_width=3, alpha=0.8)\n    #plt2 = figure.circle(x, y, size=8, fill_color=color_map, alpha=0.8)\n\n    low_box = BoxAnnotation(right=10, fill_alpha=0.2, fill_color='#555555')\n    mid_box = BoxAnnotation(left=10, right=110, fill_alpha=0.2, fill_color='green')\n    high_box = BoxAnnotation(left=110, fill_alpha=0.2, fill_color='#555555')\n\n    figure.line([10,10,20,20,30,30,40,40,50,50,60,60,70,70,80,80,90,90,\n              100,100,110,110,120,120],\n             [55.5,0,0,55.5,55.5,0,0,55.5,55.5,0,0,55.5,55.5,0,0,55.5,\n             55.5,0,0,55.5,55.5,0,0,0], line_color='grey')\n\n    figure.add_layout(low_box)\n    figure.add_layout(mid_box)\n    figure.add_layout(high_box)\n\n    return figure\n\n# Create function to handle line chart creation\ndef create_bokeh_lines(playID, actor, X, Y, lineFig, color='black', rightAxis=None, rightAxisName=\"\"):\n    # calculate base data set\n    distanceDF = get_data_over_time(playID = playID, actors = [actor])\n    distanceDF['TimeFloor'] = distanceDF['TimeNum']//5\n    distanceDF = distanceDF.groupby(['TimeFloor','PlayID'], as_index=False)[Y].mean()\n    distanceDF['TimeNum'] = distanceDF['TimeFloor']*5\n    x = distanceDF[X]\n    y = distanceDF[Y]\n\n    # return the line renderer with a color, width, and alpha\n    if rightAxis==None:\n        return lineFig.line(x, y, line_color = color, line_width = 2, alpha = 0.8)\n    else:\n        # Setting the second y axis range name and range\n        minval = y.min()*.8 if y.min()>0 else -y.max()*.05 if y.min()==0 else y.min()*1.2\n        lineFig.extra_y_ranges = {rightAxis: Range1d(minval,y.max()*1.2)}\n        lineFig.add_layout(LinearAxis(y_range_name=rightAxis, axis_label=Y + ' ('+ rightAxisName +')'), 'right')\n        return lineFig.line(x, y, line_color = color, line_width = 2, alpha = 0.8, y_range_name=rightAxis)",
      "execution_count": null,
      "outputs": []
    },
    {
      "metadata": {
        "_kg_hide-input": true,
        "trusted": true,
        "_uuid": "7e31450ff76578cf23a622386a6695ae52304902"
      },
      "cell_type": "code",
      "source": "# Create figure plot\ndistanceLineFig = figure(plot_width=800, plot_height=400)\n# Create distance lines\ndistanceLines = create_bokeh_lines(3746, '27654.0', 'TimeNum', 'Distance', distanceLineFig)\n\n# Create injured player and primary actor speed charts\nspeedLineFig = figure(plot_width=800, plot_height=400)\ninjSpeedlines = create_bokeh_lines(3746, '27654.0', 'TimeNum', 'Speed', speedLineFig, 'red')\nprimActorSpeedlines = create_bokeh_lines(3746, '33127.0', 'TimeNum', 'Speed', speedLineFig, 'blue')",
      "execution_count": null,
      "outputs": []
    },
    {
      "metadata": {
        "_uuid": "6d5bea9696eed0cc046a87a0366b36570b1579fd"
      },
      "cell_type": "markdown",
      "source": "# Play Analysis\nBefore we decided on a rule change, we reviewed each play individually and looked the cause of the concussion. Below is our analysis that lead to our suggested rule change.\n\nNote: we removed the one injury for this analysis where the cause was 'unclear', as it did not inform the high-level analysis without a clear cause."
    },
    {
      "metadata": {
        "_uuid": "173b67a32b9ebb328b58c55fe22e86ad7dbfe766"
      },
      "cell_type": "markdown",
      "source": "The breakdown of primary impact shows that the vast marjority of the concussions in 2016 and 2017 occurred on plays where the contact was made on a helmet-to-body or helmet-to-helmet collision"
    },
    {
      "metadata": {
        "trusted": true,
        "_uuid": "b240f9272df2906a528cc9f6af2c58d130aa8bec",
        "_kg_hide-input": true
      },
      "cell_type": "code",
      "source": "## Primary Impact\nplt.figure(figsize=(10,5))\nsns.set_style(\"darkgrid\")\nsns.set_palette(\"YlGnBu\", n_colors=3)\ncountplt = sns.countplot(x=\"Primary_Impact_Type\", data=playLvlCleanDF)",
      "execution_count": null,
      "outputs": []
    },
    {
      "metadata": {
        "_uuid": "d814564566ed2b25ad4f516de360e86cba0d6d62"
      },
      "cell_type": "markdown",
      "source": "## Of the plays evaluated, a significant portion of concussions occurred on tackling plays with Helmet-to-body contact"
    },
    {
      "metadata": {
        "trusted": true,
        "_uuid": "b19f2f6f751057d429b5dac3e4fe54dbcac0aac8",
        "_kg_hide-input": true
      },
      "cell_type": "code",
      "source": "uniform_data = pd.pivot_table(playLvlCleanDF, values='PlayID', index=['Player_Activity_Derived'], columns=['Primary_Impact_Type'], aggfunc='count')\nplt.figure(figsize=(10,8))\nax = sns.heatmap(uniform_data, annot=True, cmap=\"YlGnBu\")",
      "execution_count": null,
      "outputs": []
    },
    {
      "metadata": {
        "trusted": true,
        "_uuid": "8354386a8c85b8451a2a8780c9cfb413eef12e46",
        "_kg_hide-input": true
      },
      "cell_type": "code",
      "source": "## Friendly fire chart\n\nuniform_data = pd.pivot_table(playLvlCleanDF, values='PlayID', index=['Friendly_Fire'], columns=['Primary_Impact_Type'], aggfunc='count')\nplt.figure(figsize=(10,8))\nax = sns.heatmap(uniform_data, annot=True, cmap=\"YlGnBu\")",
      "execution_count": null,
      "outputs": []
    },
    {
      "metadata": {
        "_uuid": "ec1ec169fd496bf9589b87f74720a2e5c0a2823c"
      },
      "cell_type": "markdown",
      "source": "### Some trends start to emerge but it wasn't until we looked at game film that we saw a theme.\n"
    },
    {
      "metadata": {
        "_uuid": "dc6b8b8ae204aa6b8f0e12449015b6b4897010d8"
      },
      "cell_type": "markdown",
      "source": "Game analysis showed what wasn't immediately clear from the data. There were common characteristics in plays where players either attempted a low block or attempted a diving or lower-body tackle.\n\n## Of the 8 plays that lead to a concussion from blocking in 2016 and 2017, 1 injury was caused by the player attempting to block the impacting player below the waist\n\n## Additionally, of the 10 plays that lead to a concussion from tackling in 2016 and 2017, 4 injuries occurred when the injured player attempted to dive or tackle another player below the waist\n\nWe concede that these are not high numbers, however, there was a common thread among these examples, where the blocks and tackles above the waist did not share observable common characteristics."
    },
    {
      "metadata": {
        "trusted": true,
        "_uuid": "5de47672b74dda7b94fc94d555cb6bb99de4f38d"
      },
      "cell_type": "code",
      "source": "## Chart supporting above statement",
      "execution_count": null,
      "outputs": []
    },
    {
      "metadata": {
        "_kg_hide-input": true,
        "trusted": true,
        "_uuid": "f42f921c03b357029acc3ecb1649b9f126e9fc37"
      },
      "cell_type": "code",
      "source": "HTML('<video width=\"600\" height=\"400\" controls> <source src=\"http://a.video.nfl.com//films/vodzilla/153245/Punt_by_Brad_Nortman-QiQqjFdU-20181119_155917392_5000k.mp4\" type=\"video/mp4\"></video>')",
      "execution_count": null,
      "outputs": []
    },
    {
      "metadata": {
        "_uuid": "b4917d94cd7d727407c0b8ab624d2958951023bc"
      },
      "cell_type": "markdown",
      "source": "# Suggested Rule Change\n## In order to reduce the risk of injury, we recommend two rule changes to limit contact below the waist on punt plays\n## Rule 1: Penalize blocks below the waist\nThe receiving and kicking teams should both be restricted from attempting any block that results in their head going below the waist of another player. Intentionally going to the ground in an attempt to make a block puts the player at risk of suffering blows to the head.\n\n## Rule 2: Penalize diving or lower-body tackles\nThe kicking team should be restricted from attempting to tackle the ball-carrier with either a diving tackle or a tackle that hits the lower body of the ball-carrier. Players suffered inadvertent contact when attempting to make a tackle by either hitting their head on the body of a teammate or opposing player. \n\nThe rules should be implemented separately because it is possible that the second rule could potentially lead to more helmet-to-helmet collisions. A reduction in tackles below the waist could lead to more high-body hits, with players accidentally hitting the head of the ball-carrier or other players. This rule should be tested in pre-season before attempting to implement in the regular season. However, due to the number plays affected by diving tackles in this small sample, a diving or lower body tackling rule should still be enforced.\n"
    },
    {
      "metadata": {
        "_uuid": "1c34ee8b8e4c6846da2d1105ee9b19af1b2142bc"
      },
      "cell_type": "markdown",
      "source": "## Rule Change #1 Example\n### JAX-HOU 2016 Week 15 example of low block on incoming player leads to a concussion of blocking player\nThe charts below show how in a 2016 week 15 Jaguars vs. Texans game, a player suffered a concussion while diving at an incoming player.\n\nThis exemplifies the plays that occur where players are not necessarily moving fast, but are still at risk for concussions due to diving in an attempt to block another player."
    },
    {
      "metadata": {
        "_kg_hide-input": true,
        "trusted": true,
        "_uuid": "7b7a655734ce4026e71908d27eb982c4b23136c2"
      },
      "cell_type": "code",
      "source": "# Distance vs speed\nLineFigJAX2016_15 = figure(plot_width=800, plot_height=400, title=\"JAX-HOU Distance Between Impacted Players (blue) vs. Speed of Injured Player (red)\")\n# Create distance lines\nLineFigJAX2016_15Rtn = create_bokeh_lines(2918, '32120.0', 'TimeNum', 'Distance', LineFigJAX2016_15, color='#008ac2')\nLineFigJAX2016_15.yaxis.axis_label = \"Distance (yards)\"\nLineFigJAX2016_15.xaxis.axis_label = \"Play Time (milliseconds)\"\nLineFigJAX2016_15.background_fill_color = \"#efefef\"\nLineFigJAX2016_15.background_fill_alpha = 0.5\n#LineFigRaiders2017_05.legend.location = \"top_right\"\n\nLineFigJAX2016_15Rtn2 = create_bokeh_lines(2918, '32120.0', 'TimeNum', 'Speed', LineFigJAX2016_15, color='#de425b', rightAxis='rightRange', rightAxisName='red')\n\nLineFigJAX2016_15show = show(row(LineFigJAX2016_15), notebook_handle=True)",
      "execution_count": null,
      "outputs": []
    },
    {
      "metadata": {
        "_uuid": "e08ba386e765eed8ad0d2df9bb9498f18d42db7e"
      },
      "cell_type": "markdown",
      "source": "In the chart above, we compared speed of the injured player and distance between the injured player and the impacting player.  The two players are never more than 5 yards apart from the start of the play (roughly 60 millisecond mark) until the point of contact (roughly 150 milliseconds). The speed of the player alternates between positive and negative speed until he dives at the legs of the incoming player at roughly 120 millisecon mark, quickly making contact with the impacting  player."
    },
    {
      "metadata": {
        "_kg_hide-input": true,
        "trusted": true,
        "_uuid": "fbb8fbab566c82cdbea5d8d87c4749a87c526db5"
      },
      "cell_type": "code",
      "source": "# Speed vs acceleration\n# Create injured player and primary actor speed charts\nspeedLineFigJAX2016_15 = figure(plot_width=800, plot_height=400, title=\"JAX-HOU Speed (red) vs. Acceleration (green) of Injured Player\")\ninjSpeedlinesRJAX2016_15 = create_bokeh_lines(2918, '32120.0', 'TimeNum', 'Speed', speedLineFigJAX2016_15, color='#de425b')\nspeedLineFigJAX2016_15.yaxis.axis_label = \"Speed\"\nspeedLineFigJAX2016_15.xaxis.axis_label = \"Play Time (milliseconds)\"\nspeedLineFigJAX2016_15.background_fill_color = \"#efefef\"\nspeedLineFigJAX2016_15.background_fill_alpha = 0.5\n\naccelSpeedlinesRJAX2016_15 = create_bokeh_lines(2918, '32120.0', 'TimeNum', 'Acceleration', speedLineFigJAX2016_15, color='#00FA9A', rightAxis='rightRange', rightAxisName='green')\n\nJAX2016_15show = show(row(speedLineFigJAX2016_15), notebook_handle=True)",
      "execution_count": null,
      "outputs": []
    },
    {
      "metadata": {
        "_uuid": "f45c791e379253d9b9be9a9676edf2a003b800ab"
      },
      "cell_type": "markdown",
      "source": "In the chart above we compare the speed of the injured player against the acceleration of the injured player. As the play begins the injured player begins to accelerate until the point of contact (roughly at 150 milliseconds). After the contact there is another period of acceleration and increase in speed that is actually the player going backwards. Overall, this is neither a high speed nor a high acceleration injury but it is totally caused by the player diving at the legs of the impacting player. "
    },
    {
      "metadata": {
        "_kg_hide-input": true,
        "trusted": true,
        "_uuid": "89eb89e57a61293ac9ada551e854e1a7ab21a174"
      },
      "cell_type": "code",
      "source": "# Paths\nXYFigJAX2016_15 = figure(plot_width=800, plot_height=400, x_range=(0,120), y_range=(0, 53.3), title=\"JAX-HOU Path of Injured (red) and Impacting (blue) Players\")\nXYFigJAX2016_15upd = create_bokeh_play_x_y_lines(playID = 2918, actors = ['32120.0', '32725.0'], figure = XYFigJAX2016_15)\nbokeh_handle6 = show(row(XYFigJAX2016_15upd), notebook_handle=True)",
      "execution_count": null,
      "outputs": []
    },
    {
      "metadata": {
        "_uuid": "d1cb827ffe53b691e4776c82b43f87e500a4f333"
      },
      "cell_type": "markdown",
      "source": "The above chart shows the path of the injured player (red) compared with the path of the impacting player (blue). The initial contact occurred early in the play near the line where a low-block occurred."
    },
    {
      "metadata": {
        "trusted": true,
        "_uuid": "b3ac935ce73401c5758105477666d23aa040b165",
        "_kg_hide-input": true
      },
      "cell_type": "code",
      "source": "HTML('<iframe width=\"560\" height=\"315\" src=\"https://streamable.com/s/6lg2y/xrywsg.mp4\" frameborder=\"0\" allowfullscreen></iframe>')",
      "execution_count": null,
      "outputs": []
    },
    {
      "metadata": {
        "_uuid": "49d9de31429a90ebd2bde85eba2c811a98c29a64"
      },
      "cell_type": "markdown",
      "source": "View the video above to see the exact contact that led to the concussion."
    },
    {
      "metadata": {
        "_uuid": "884f9184812e4b9b41dacccf91048b8d122d12e1"
      },
      "cell_type": "markdown",
      "source": "## Rule Change #2 Example\n### BAL-OAK 2017 Week 5 example of low dive tackle leading to contact with teammate\n\nIn the below example a Raiders player attempts a diving tackle against the ball-carrier. He does not make contact with the ball-carrier, instead his head inadvertently hits the body of his teammate."
    },
    {
      "metadata": {
        "_kg_hide-input": true,
        "trusted": true,
        "_uuid": "4d551726e0ed84f60b0bf94cb625ac58b11649fb"
      },
      "cell_type": "code",
      "source": "HTML('<video width=\"560\" height=\"315\" controls> <source src=\"http://a.video.nfl.com//films/vodzilla/153273/King_62_yard_punt-BSOws7nQ-20181119_165306255_5000k.mp4\" type=\"video/mp4\"></video>')",
      "execution_count": null,
      "outputs": []
    },
    {
      "metadata": {
        "_kg_hide-input": true,
        "trusted": true,
        "_uuid": "8dbe1c11e77bf30643e500b1e120f2f425af1bb3"
      },
      "cell_type": "code",
      "source": "\n\n# Distance vs speed\nLineFigRaiders2017_05 = figure(plot_width=800, plot_height=400, title=\"BAL-OAK Distance Between Impacted Players (blue) vs. Speed of Injured Player (red)\")\n# Create distance lines\nLineFigRaiders2017_05Rtn = create_bokeh_lines(2072, '29492.0', 'TimeNum', 'Distance', LineFigRaiders2017_05, color='#008ac2')\nLineFigRaiders2017_05.yaxis.axis_label = \"Distance (yards)\"\nLineFigRaiders2017_05.xaxis.axis_label = \"Play Time (milliseconds)\"\nLineFigRaiders2017_05.background_fill_color = \"#efefef\"\nLineFigRaiders2017_05.background_fill_alpha = 0.5\n#LineFigRaiders2017_05.legend.location = \"top_right\"\n\nLineFigRaiders2017_05Rtn2 = create_bokeh_lines(2072, '29492.0', 'TimeNum', 'Speed', LineFigRaiders2017_05, color='#de425b', rightAxis='rightRange', rightAxisName='red')\n\nLineFigRaiders2017_05show = show(row(LineFigRaiders2017_05), notebook_handle=True)",
      "execution_count": null,
      "outputs": []
    },
    {
      "metadata": {
        "_uuid": "2b61109ca8a7d236d6c9d677f779c95e12fa078f"
      },
      "cell_type": "markdown",
      "source": "The above chart shows that both distance between the injured and impacting player and the speed of the injured player are maximized at roughtly the same time. The moment of impact occurs around the 230-240 millisecond mark. As expected, the speed of the injured player quickly drops when the two players collide."
    },
    {
      "metadata": {
        "_kg_hide-input": true,
        "trusted": true,
        "_uuid": "656a91232e5391495ef4692adfba3f60f2f7f3dc"
      },
      "cell_type": "code",
      "source": "\n\n# Speed vs acceleration\n# Create injured player and primary actor speed charts\nspeedLineFigRaiders2017_05 = figure(plot_width=800, plot_height=400, title=\"BAL-OAK Speed (red) vs. Acceleration (green) of Injured Player\")\ninjSpeedlinesRaiders2017_05 = create_bokeh_lines(2072, '29492.0', 'TimeNum', 'Speed', speedLineFigRaiders2017_05, color='#de425b')\nspeedLineFigRaiders2017_05.yaxis.axis_label = \"Speed\"\nspeedLineFigRaiders2017_05.xaxis.axis_label = \"Play Time (milliseconds)\"\nspeedLineFigRaiders2017_05.background_fill_color = \"#efefef\"\nspeedLineFigRaiders2017_05.background_fill_alpha = 0.5\n\naccelSpeedlinesRaiders2017_05 = create_bokeh_lines(2072, '29492.0', 'TimeNum', 'Acceleration', speedLineFigRaiders2017_05, color='#00FA9A', rightAxis='rightRange', rightAxisName='green')\n\nRaiders2017_05show = show(row(speedLineFigRaiders2017_05), notebook_handle=True)",
      "execution_count": null,
      "outputs": []
    },
    {
      "metadata": {
        "_uuid": "89f0ce83cc583a8e16c449172f7b9adfd6d81fc1"
      },
      "cell_type": "markdown",
      "source": "The above chart shows speed and acceleration compared for the injured player. Acceleration increases rapidly when the ball is kicked and that speed is sustained while running done field. At the moment of impact (230-240) the player quickly decelerates as he quickly comes to a stop after diving and running into his teammate. Because the player dove while running at such a high speed, the unintentional impact had a significant effect."
    },
    {
      "metadata": {
        "_kg_hide-input": true,
        "trusted": true,
        "_uuid": "8ebc20d4e1589fe32ed7654ea220d99eec4286bf"
      },
      "cell_type": "code",
      "source": "## Create X-Y Chart showing path of impacted players\n\nXYFigRaiders2017_05 = figure(plot_width=800, plot_height=400, x_range=(0,120), y_range=(0, 53.3), title=\"OAK-BAL Path of Injured (red) and Impacting (blue) Players\")\nXYFigRaiders2017_05 = create_bokeh_play_x_y_lines(playID = 2072, actors = ['29492.0', '33445.0'], figure = XYFigRaiders2017_05)\nbokeh_handle4 = show(row(XYFigRaiders2017_05), notebook_handle=True)",
      "execution_count": null,
      "outputs": []
    },
    {
      "metadata": {
        "_kg_hide-input": true,
        "trusted": true,
        "_uuid": "0e38790f6645a3b9a217b1f833eee578305951df"
      },
      "cell_type": "code",
      "source": "HTML('<iframe width=\"560\" height=\"315\" src=\"https://streamable.com/s/n5e7l/imupug.mp4\" frameborder=\"0\" allowfullscreen></iframe>')",
      "execution_count": null,
      "outputs": []
    },
    {
      "metadata": {
        "_uuid": "337d9d72bd24359620afe82aeca59132e0ec7589"
      },
      "cell_type": "markdown",
      "source": "## Recap\nThe two examples above illustrate particular situations where a low block and a low dive resulted in concussions. It is our belief that these concussions could have been avoided had the players not gone to the ground on the play. "
    },
    {
      "metadata": {
        "_uuid": "20649b0d3e20e4932f6a54735aee927d1453a8f7"
      },
      "cell_type": "markdown",
      "source": "\nOne note of caution, because the data we evaluated only used the 2016 and 2017 seasons, it is possible that this sample size is over-representative. To fully test this theory, additional seasons would have to be evaluated or the rule should be heavily monitored to see if it leads to a decrease in concussions on punt plays"
    },
    {
      "metadata": {
        "_uuid": "803a416c1bbea80c1903ea1889b648738eea0aac"
      },
      "cell_type": "markdown",
      "source": "## Interactive Section\nThe charts below allow the selection of other plays to navigate through time and view different results. The controls to change inputs are located immediately following the charts.\n\n### Please note: to run this workbook with fully interactivity, you must first fork the notebook and run all cells. The last cells has interactive elements for PlayID and Time during play \n\n"
    },
    {
      "metadata": {
        "_kg_hide-input": false,
        "_uuid": "13dc24b3f59ef32ea1c007d8d54560ec539526d6"
      },
      "cell_type": "markdown",
      "source": "### Distance between injured player and primary actor"
    },
    {
      "metadata": {
        "trusted": true,
        "_uuid": "f3b6ddc76071ffd56e255c88bc16db74ba297a10",
        "scrolled": false,
        "_kg_hide-input": true
      },
      "cell_type": "code",
      "source": "bokeh_handle2 = show(row(distanceLineFig), notebook_handle=True)",
      "execution_count": null,
      "outputs": []
    },
    {
      "metadata": {
        "_uuid": "d9a44e20f1359ceb5d5193bd506ae83ba1d1c8c5"
      },
      "cell_type": "markdown",
      "source": "### Speed of injured player (red) vs. primary actor (blue)"
    },
    {
      "metadata": {
        "trusted": true,
        "_uuid": "4b975183767737c609e31c70109def76c520d00f",
        "_kg_hide-input": true
      },
      "cell_type": "code",
      "source": "bokeh_handle3 = show(row(speedLineFig), notebook_handle=True)",
      "execution_count": null,
      "outputs": []
    },
    {
      "metadata": {
        "_uuid": "2a6fae21ab3559a09cfece87d12269c49b184e7c"
      },
      "cell_type": "markdown",
      "source": "### Play Motion Chart"
    },
    {
      "metadata": {
        "_kg_hide-input": true,
        "trusted": true,
        "_uuid": "78aec8247adea9194057d5a226a577f6875710c2"
      },
      "cell_type": "code",
      "source": "# Create chart for plays\n# calculate base data set\nlimitedSample = update_sample(playID = 3746)\nx = limitedSample['x']\ny = limitedSample['y']\n\n# get data for distance line\ndistanceLine = update_interactors(limitedSample)\nline_x = distanceLine['x']\nline_y = distanceLine['y']\n\n\nfig = figure(plot_width=800, plot_height=400, x_range=(0,120), y_range=(0, 53.3))\n\ncolor_map = ['#ff0000' if x in(limitedSample['GSISID_x'].values) else '#0000ff' if x in(limitedSample['Primary_Partner_GSISID'].values) else '#545454' for x in limitedSample.GSISID_y[limitedSample['TimeNum'] == 0]]\n#print(color_map)\ndfDict = {\n        'id': limitedSample.loc[:,'GSISID_y'],\n        'x': x,\n        'y': y,\n        'color': color_map\n    }\n#print(pd.DataFrame(dfDict))\n\nsource = ColumnDataSource(data=dict(x=x,\n                                    y=y,\n                                    gsisid=limitedSample['GSISID_y'],\n                                   colors=color_map))\n#labels = LabelSet(x='x', y='y', text='gsisid', level='glyph',\n#              x_offset=5, y_offset=5, source=source, render_mode='canvas')\n\n# add a circle renderer with a size, color, and alpha\nlines = fig.line(line_x, line_y, line_color='black',line_width=2, alpha=0.6)\ncirclePlt = fig.circle(x, y, size=8, fill_color=color_map, alpha=0.8)\n#plt = fig.circle(x='x', y='y', size=8, color='colors', alpha=0.6, source=source)\n\n\n\nlow_box = BoxAnnotation(right=10, fill_alpha=0.2, fill_color='#555555')\nmid_box = BoxAnnotation(left=10, right=110, fill_alpha=0.2, fill_color='green')\nhigh_box = BoxAnnotation(left=110, fill_alpha=0.2, fill_color='#555555')\n\nfig.line([10,10,20,20,30,30,40,40,50,50,60,60,70,70,80,80,90,90,\n          100,100,110,110,120,120],\n         [55.5,0,0,55.5,55.5,0,0,55.5,55.5,0,0,55.5,55.5,0,0,55.5,\n         55.5,0,0,55.5,55.5,0,0,0], line_color='grey')\n\nfig.add_layout(low_box)\nfig.add_layout(mid_box)\nfig.add_layout(high_box)\n#fig.add_layout(labels)\n\nbokeh_handle = show(row(fig), notebook_handle=True)",
      "execution_count": null,
      "outputs": []
    },
    {
      "metadata": {
        "_uuid": "cf61bcbe6dab7f444f5990361c9d79f108ef1aa1"
      },
      "cell_type": "markdown",
      "source": "### Change the time or play viewed above"
    },
    {
      "metadata": {
        "_kg_hide-input": true,
        "trusted": true,
        "_uuid": "97a52a7ccb800252ee9975ad3f2cc701e4d0ba7e"
      },
      "cell_type": "code",
      "source": "\ninteractive(update_plot, playID = playLvlDF[playLvlDF['InjCtrlFlag'] == 'Injury']['PlayID'].sort_values().values, timeNum = (0,350))",
      "execution_count": null,
      "outputs": []
    }
  ],
  "metadata": {
    "kernelspec": {
      "display_name": "Python 3",
      "language": "python",
      "name": "python3"
    },
    "language_info": {
      "name": "python",
      "version": "3.6.6",
      "mimetype": "text/x-python",
      "codemirror_mode": {
        "name": "ipython",
        "version": 3
      },
      "pygments_lexer": "ipython3",
      "nbconvert_exporter": "python",
      "file_extension": ".py"
    }
  },
  "nbformat": 4,
  "nbformat_minor": 1
}